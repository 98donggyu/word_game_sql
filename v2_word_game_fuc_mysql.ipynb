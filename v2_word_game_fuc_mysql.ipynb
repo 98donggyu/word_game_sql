{
 "cells": [
  {
   "cell_type": "code",
   "execution_count": 1,
   "metadata": {},
   "outputs": [
    {
     "name": "stdout",
     "output_type": "stream",
     "text": [
      "pygame 2.6.1 (SDL 2.28.4, Python 3.12.9)\n",
      "Hello from the pygame community. https://www.pygame.org/contribute.html\n"
     ]
    },
    {
     "data": {
      "text/plain": [
       "True"
      ]
     },
     "execution_count": 1,
     "metadata": {},
     "output_type": "execute_result"
    }
   ],
   "source": [
    "import random\n",
    "import time\n",
    "import pymysql\n",
    "import datetime\n",
    "from dotenv import load_dotenv\n",
    "import os\n",
    "from pygame import mixer\n",
    "mixer.init()\n",
    "\n",
    "load_dotenv()"
   ]
  },
  {
   "cell_type": "code",
   "execution_count": 2,
   "metadata": {},
   "outputs": [],
   "source": [
    "HOST = os.getenv(\"HOST\")\n",
    "PORT = int(os.getenv(\"PORT\"))\n",
    "USER = os.getenv(\"USER\")\n",
    "PASSWD = os.getenv(\"PASSWD\")\n",
    "DB1 = os.getenv(\"DB1\")\n",
    "DB2 = os.getenv(\"DB2\")"
   ]
  },
  {
   "cell_type": "code",
   "execution_count": 3,
   "metadata": {},
   "outputs": [],
   "source": [
    "game_round = 5\n",
    "\n",
    "def wordLoad():\n",
    "    words = []\n",
    "    try:\n",
    "        with open('./data/word.txt', 'r') as f:\n",
    "            for word in f:\n",
    "                words.append(word.strip())\n",
    "    except FileNotFoundError:\n",
    "        print(\"word.txt 파일이 없습니다.\")\n",
    "        exit()\n",
    "    return words\n",
    "\n",
    "def getTime(start, end):\n",
    "    exe_time = end - start\n",
    "    exe_time = format(exe_time, \".3f\")\n",
    "    return exe_time\n",
    "\n",
    "def game_run(words):\n",
    "    input(\"Ready? Press Enter Key!\")\n",
    "    game_cnt = 1\n",
    "    corr_cnt = 0\n",
    "\n",
    "    start = time.time()\n",
    "    while game_cnt <= game_round:\n",
    "        random.shuffle(words)\n",
    "        que_word = random.choice(words)\n",
    "\n",
    "        print()\n",
    "        print(\"*Question # {}\".format(game_cnt))\n",
    "        print(que_word)\n",
    "\n",
    "        input_word = input()\n",
    "        print()\n",
    "\n",
    "        if str(que_word).strip() == str(input_word).strip():\n",
    "            mixer.music.load('assets/good.wav')\n",
    "            mixer.music.play()\n",
    "            print(\"Pass!\")\n",
    "            corr_cnt += 1\n",
    "        else:\n",
    "            mixer.music.load('assets/bad.wav')\n",
    "            mixer.music.play()\n",
    "            print(\"Wrong!\")\n",
    "\n",
    "        game_cnt += 1\n",
    "        end = time.time()\n",
    "\n",
    "    return corr_cnt, getTime(start, end)"
   ]
  },
  {
   "cell_type": "code",
   "execution_count": 4,
   "metadata": {},
   "outputs": [],
   "source": [
    "def inputDB(userid, corr_cnt, exe_time):\n",
    "    try:\n",
    "        conn = pymysql.connect(host=HOST, port=PORT, user=USER, passwd=PASSWD, db=DB1, charset='utf8')\n",
    "        cursor = conn.cursor()\n",
    "\n",
    "        cursor.execute('''\n",
    "            CREATE TABLE IF NOT EXISTS game_records2(\n",
    "                userid VARCHAR(255) PRIMARY KEY NOT NULL,\n",
    "                corr_cnt INTEGER,\n",
    "                record VARCHAR(255),\n",
    "                regdate DATETIME\n",
    "            )\n",
    "        ''')\n",
    "\n",
    "        cursor.execute(\"SELECT EXISTS(SELECT * FROM game_records2 WHERE userid = %s)\", (userid,))\n",
    "        user_exist = cursor.fetchone()[0]\n",
    "\n",
    "        if user_exist:\n",
    "            cursor.execute(\n",
    "                \"UPDATE game_records2 SET corr_cnt = %s, record = %s, regdate = %s WHERE userid = %s AND corr_cnt < %s\",\n",
    "                (corr_cnt, exe_time, datetime.datetime.now(), userid, corr_cnt)\n",
    "            )\n",
    "        else:\n",
    "            cursor.execute(\n",
    "                \"INSERT INTO game_records2(userid, corr_cnt, record, regdate) VALUES (%s, %s, %s, %s)\",\n",
    "                (userid, corr_cnt, exe_time, datetime.datetime.now())\n",
    "            )\n",
    "\n",
    "        conn.commit()\n",
    "    except pymysql.MySQLError as err:\n",
    "        print(f\"DB Error: {err}\")\n",
    "    finally:\n",
    "        if conn and conn.open:\n",
    "            cursor.close()\n",
    "            conn.close()"
   ]
  },
  {
   "cell_type": "code",
   "execution_count": 5,
   "metadata": {},
   "outputs": [],
   "source": [
    "def getDB():\n",
    "    try:\n",
    "        conn = pymysql.connect(host=HOST, port=PORT, user=USER, passwd=PASSWD, db=DB1, charset='utf8')\n",
    "        cursor = conn.cursor()\n",
    "\n",
    "        print(\"순번\\t선수id\\t정답수\\t걸린시간\\t게임일시\")\n",
    "        print(\"-\" * 60)\n",
    "\n",
    "        cursor.execute(\"SELECT * FROM game_records2 ORDER BY corr_cnt DESC, record ASC LIMIT 10\")\n",
    "        rows = cursor.fetchall()\n",
    "\n",
    "        for rank, row in enumerate(rows):\n",
    "            regdate = row[3].strftime('%Y-%m-%d %H:%M:%S')\n",
    "            print(\"{0:^4}\\t{1:^6}\\t{2:^6}\\t{3:^8} {4:^22}\".format((rank + 1), row[0], row[1], row[2], regdate))\n",
    "\n",
    "    except pymysql.MySQLError as err:\n",
    "        print(f\"DB Error: {err}\")\n",
    "    finally:\n",
    "        if conn and conn.open:\n",
    "            cursor.close()\n",
    "            conn.close()"
   ]
  },
  {
   "cell_type": "code",
   "execution_count": 6,
   "metadata": {},
   "outputs": [
    {
     "name": "stdout",
     "output_type": "stream",
     "text": [
      "\n",
      "*Question # 1\n",
      "considerable\n",
      "\n",
      "Pass!\n",
      "\n",
      "*Question # 2\n",
      "friday\n",
      "\n",
      "Pass!\n",
      "\n",
      "*Question # 3\n",
      "stress\n",
      "\n",
      "Pass!\n",
      "\n",
      "*Question # 4\n",
      "following\n",
      "\n",
      "Pass!\n",
      "\n",
      "*Question # 5\n",
      "train\n",
      "\n",
      "Pass!\n",
      "------------------------------------------------------------\n",
      "결과 : 합격\n",
      "게임 시간 : 9.027 초 정답 개수 : 5\n",
      "------------------------------------------------------------\n",
      "순번\t선수id\t정답수\t걸린시간\t게임일시\n",
      "------------------------------------------------------------\n",
      " 1  \t song \t  5   \t 9.027    2025-03-07 11:49:44  \n",
      "------------------------------------------------------------\n"
     ]
    }
   ],
   "source": [
    "def passOrFailPrint(corr_cnt, exe_time):\n",
    "    if corr_cnt >= 3:\n",
    "        print(\"결과 : 합격\")\n",
    "    else:\n",
    "        print(\"불합격\")\n",
    "    print(\"게임 시간 :\", exe_time, \"초\", \"정답 개수 : {}\".format(corr_cnt))\n",
    "\n",
    "if __name__ == '__main__':\n",
    "    words = wordLoad()\n",
    "    userid = input(\"게임 선수 id를 입력하세요. : \")\n",
    "    corr_cnt, exe_time = game_run(words)\n",
    "    inputDB(userid, corr_cnt, exe_time)\n",
    "    print(\"-\" * 60)\n",
    "    passOrFailPrint(corr_cnt, exe_time)\n",
    "    print(\"-\" * 60)\n",
    "    getDB()\n",
    "    print(\"-\" * 60)"
   ]
  }
 ],
 "metadata": {
  "kernelspec": {
   "display_name": "base",
   "language": "python",
   "name": "python3"
  },
  "language_info": {
   "codemirror_mode": {
    "name": "ipython",
    "version": 3
   },
   "file_extension": ".py",
   "mimetype": "text/x-python",
   "name": "python",
   "nbconvert_exporter": "python",
   "pygments_lexer": "ipython3",
   "version": "3.12.9"
  }
 },
 "nbformat": 4,
 "nbformat_minor": 2
}
