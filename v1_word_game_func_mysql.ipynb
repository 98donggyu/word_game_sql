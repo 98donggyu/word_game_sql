{
 "cells": [
  {
   "cell_type": "code",
   "execution_count": 13,
   "metadata": {},
   "outputs": [
    {
     "data": {
      "text/plain": [
       "True"
      ]
     },
     "execution_count": 13,
     "metadata": {},
     "output_type": "execute_result"
    }
   ],
   "source": [
    "import random\n",
    "import time\n",
    "import pymysql\n",
    "import datetime\n",
    "from dotenv import load_dotenv\n",
    "import os\n",
    "from pygame import mixer\n",
    "mixer.init()\n",
    "load_dotenv()"
   ]
  },
  {
   "cell_type": "code",
   "execution_count": 14,
   "metadata": {},
   "outputs": [],
   "source": [
    "# MySQL 설정\n",
    "HOST = os.getenv(\"HOST\")\n",
    "PORT = int(os.getenv(\"PORT\"))\n",
    "USER = os.getenv(\"USER\")\n",
    "PASSWD = os.getenv(\"PASSWD\")\n",
    "DB1 = os.getenv(\"DB1\")\n",
    "DB2 = os.getenv(\"DB2\")"
   ]
  },
  {
   "cell_type": "code",
   "execution_count": 15,
   "metadata": {},
   "outputs": [],
   "source": [
    "def wordLoad():\n",
    "    words = []\n",
    "    try:\n",
    "        with open('./data/word.txt', 'r') as f:\n",
    "            for word in f:\n",
    "                words.append(word.strip())\n",
    "    except FileNotFoundError:\n",
    "        print(\"word.txt 파일이 없습니다.\")\n",
    "        exit()\n",
    "    return words\n",
    "\n",
    "def getTime(start, end):\n",
    "    exe_time = end - start\n",
    "    exe_time = format(exe_time, \".3f\")\n",
    "    return exe_time\n",
    "\n",
    "def game_run(words):\n",
    "    input(\"Ready? Press Enter Key!\")\n",
    "    game_cnt = 1\n",
    "    corr_cnt = 0\n",
    "\n",
    "    start = time.time()\n",
    "    while game_cnt <= 5:\n",
    "        random.shuffle(words)\n",
    "        que_word = random.choice(words)\n",
    "\n",
    "        print()\n",
    "        print(\"*Question # {}\".format(game_cnt))\n",
    "        print(que_word)\n",
    "\n",
    "        input_word = input()\n",
    "        print()\n",
    "\n",
    "        if str(que_word).strip() == str(input_word).strip():\n",
    "            mixer.music.load('assets/good.wav')\n",
    "            mixer.music.play()\n",
    "            print(\"Pass!\")\n",
    "            corr_cnt += 1\n",
    "        else:\n",
    "            mixer.music.load('assets/bad.wav')\n",
    "            mixer.music.play()\n",
    "            print(\"Wrong!\")\n",
    "\n",
    "        game_cnt += 1\n",
    "        end = time.time()\n",
    "\n",
    "    return corr_cnt, getTime(start, end)"
   ]
  },
  {
   "cell_type": "code",
   "execution_count": 16,
   "metadata": {},
   "outputs": [],
   "source": [
    "def inputDB(corr_cnt, exe_time):\n",
    "    try:\n",
    "        conn = pymysql.connect(host=HOST, port=PORT, user=USER, passwd=PASSWD, db=DB1, charset='utf8')\n",
    "        cursor = conn.cursor()\n",
    "\n",
    "        cursor.execute('''\n",
    "            CREATE TABLE IF NOT EXISTS game_records1(\n",
    "                id INT AUTO_INCREMENT PRIMARY KEY,\n",
    "                corr_cnt INT,\n",
    "                record VARCHAR(255),\n",
    "                regdate DATETIME\n",
    "            )\n",
    "        ''')\n",
    "\n",
    "        cursor.execute(\n",
    "            \"INSERT INTO game_records1(corr_cnt, record, regdate) VALUES (%s, %s, %s)\",\n",
    "            (corr_cnt, exe_time, datetime.datetime.now().strftime('%Y-%m-%d %H:%M:%S'))\n",
    "        )\n",
    "\n",
    "        conn.commit()\n",
    "    except pymysql.MySQLError as err:\n",
    "        print(f\"DB Error: {err}\")\n",
    "    finally:\n",
    "        if conn and conn.open:\n",
    "            cursor.close()\n",
    "            conn.close()"
   ]
  },
  {
   "cell_type": "code",
   "execution_count": 17,
   "metadata": {},
   "outputs": [],
   "source": [
    "def getDB():\n",
    "    try:\n",
    "        conn = pymysql.connect(host=HOST, port=PORT, user=USER, passwd=PASSWD, db=DB1, charset='utf8')\n",
    "        cursor = conn.cursor()\n",
    "\n",
    "        print(\"랭킹\\t정답수\\t걸린시간\\t\\t게임일시\")\n",
    "        print(\"-\" * 48)\n",
    "\n",
    "        # cursor.execute(\"SELECT * FROM game_records1 ORDER BY corr_cnt DESC, record ASC LIMIT 10\")\n",
    "        # rows = cursor.fetchall()\n",
    "\n",
    "        # for rank, row in enumerate(rows):\n",
    "            # print(\"{0:^6}\\t{1:^6}\\t{2:^8} {3:^22}\".format((rank + 1), row[1], row[2], row[3]))\n",
    "        \n",
    "        cursor.execute(\"SELECT * FROM game_records1 ORDER BY corr_cnt DESC, record ASC LIMIT 10\")\n",
    "        rows = cursor.fetchall()  # fetchall()을 사용하여 모든 결과를 가져옵니다.\n",
    "\n",
    "        for rank, row in enumerate(rows):\n",
    "            regdate = row[3].strftime('%Y-%m-%d %H:%M:%S')\n",
    "            print(\"{0:^6}\\t{1:^6}\\t{2:^8} {3:^22}\".format((rank + 1), row[1], row[2], regdate))\n",
    "\n",
    "    except pymysql.MySQLError as err:\n",
    "        print(f\"DB Error: {err}\")\n",
    "    finally:\n",
    "        if conn and conn.open:\n",
    "            conn.close()"
   ]
  },
  {
   "cell_type": "code",
   "execution_count": 19,
   "metadata": {},
   "outputs": [
    {
     "name": "stdout",
     "output_type": "stream",
     "text": [
      "\n",
      "*Question # 1\n",
      "cylinder\n",
      "\n",
      "Pass!\n",
      "\n",
      "*Question # 2\n",
      "auto\n",
      "\n",
      "Pass!\n",
      "\n",
      "*Question # 3\n",
      "occupied\n",
      "\n",
      "Pass!\n",
      "\n",
      "*Question # 4\n",
      "partner\n",
      "\n",
      "Pass!\n",
      "\n",
      "*Question # 5\n",
      "lightbox\n",
      "\n",
      "Wrong!\n",
      "------------------------------------------------\n",
      "결과 : 합격\n",
      "게임 시간 : 14.327 초 정답 개수 : 4\n",
      "------------------------------------------------\n",
      "랭킹\t정답수\t걸린시간\t\t게임일시\n",
      "------------------------------------------------\n",
      "  1   \t  4   \t 14.327   2025-03-07 11:44:31  \n",
      "  2   \t  0   \t 1.507    2025-03-07 11:43:54  \n",
      "------------------------------------------------\n"
     ]
    }
   ],
   "source": [
    "if __name__ == '__main__':\n",
    "    words = wordLoad()\n",
    "    corr_cnt, exe_time = game_run(words)\n",
    "\n",
    "    inputDB(corr_cnt, exe_time)\n",
    "    print(\"-\" * 48)\n",
    "    if corr_cnt >= 3:\n",
    "        print(\"결과 : 합격\")\n",
    "    else:\n",
    "        print(\"불합격\")\n",
    "    print(\"게임 시간 :\", exe_time, \"초\", \"정답 개수 : {}\".format(corr_cnt))\n",
    "    print(\"-\" * 48)\n",
    "    getDB()\n",
    "    print(\"-\" * 48)"
   ]
  },
  {
   "cell_type": "code",
   "execution_count": null,
   "metadata": {},
   "outputs": [],
   "source": []
  }
 ],
 "metadata": {
  "kernelspec": {
   "display_name": "base",
   "language": "python",
   "name": "python3"
  },
  "language_info": {
   "codemirror_mode": {
    "name": "ipython",
    "version": 3
   },
   "file_extension": ".py",
   "mimetype": "text/x-python",
   "name": "python",
   "nbconvert_exporter": "python",
   "pygments_lexer": "ipython3",
   "version": "3.12.9"
  }
 },
 "nbformat": 4,
 "nbformat_minor": 2
}
